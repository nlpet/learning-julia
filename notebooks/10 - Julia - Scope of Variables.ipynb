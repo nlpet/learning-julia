{
 "metadata": {
  "language": "Julia",
  "name": "",
  "signature": "sha256:4c4e714bd736044f735e23638cddf53c1ea49883533b3b6cb574696fd0d43d86"
 },
 "nbformat": 3,
 "nbformat_minor": 0,
 "worksheets": [
  {
   "cells": [
    {
     "cell_type": "code",
     "collapsed": false,
     "input": [
      "function foo(n)\n",
      "  f = y -> n + x + y\n",
      "  x = 1\n",
      "  f(2)\n",
      "end\n",
      "\n",
      "foo(10)"
     ],
     "language": "python",
     "metadata": {},
     "outputs": [
      {
       "metadata": {},
       "output_type": "pyout",
       "prompt_number": 1,
       "text": [
        "13"
       ]
      }
     ],
     "prompt_number": 1
    },
    {
     "cell_type": "code",
     "collapsed": false,
     "input": [
      "Fs = cell(2)\n",
      "i = 1\n",
      "while i <= 2\n",
      "    Fs[i] = ()->i\n",
      "    i += 1\n",
      "end\n",
      "\n",
      "Fs[1]()\n",
      "Fs"
     ],
     "language": "python",
     "metadata": {},
     "outputs": [
      {
       "metadata": {},
       "output_type": "pyout",
       "prompt_number": 6,
       "text": [
        "2-element Array{Any,1}:\n",
        " (anonymous function)\n",
        " (anonymous function)"
       ]
      }
     ],
     "prompt_number": 6
    },
    {
     "cell_type": "code",
     "collapsed": false,
     "input": [
      "Fs = cell(2)\n",
      "i = 1\n",
      "while i <= 2\n",
      "    let i = i\n",
      "        Fs[i] = ()->i\n",
      "    end\n",
      "    i += 1\n",
      "end\n",
      "\n",
      "Fs[1]()\n",
      "Fs[2]()"
     ],
     "language": "python",
     "metadata": {},
     "outputs": [
      {
       "metadata": {},
       "output_type": "pyout",
       "prompt_number": 8,
       "text": [
        "2"
       ]
      }
     ],
     "prompt_number": 8
    },
    {
     "cell_type": "code",
     "collapsed": false,
     "input": [
      "begin\n",
      "    local x = 1\n",
      "    begin\n",
      "        local x = 2\n",
      "    end\n",
      "    x\n",
      "end"
     ],
     "language": "python",
     "metadata": {},
     "outputs": [
      {
       "ename": "LoadError",
       "evalue": "syntax: local \"x\" declared twice\nwhile loading In[11], in expression starting on line 7",
       "output_type": "pyerr",
       "traceback": [
        "syntax: local \"x\" declared twice\nwhile loading In[11], in expression starting on line 7",
        ""
       ]
      }
     ],
     "prompt_number": 11
    },
    {
     "cell_type": "code",
     "collapsed": false,
     "input": [
      "begin\n",
      "    local x = 1\n",
      "    let \n",
      "        local x = 2\n",
      "    end\n",
      "    x\n",
      "end"
     ],
     "language": "python",
     "metadata": {},
     "outputs": [
      {
       "metadata": {},
       "output_type": "pyout",
       "prompt_number": 12,
       "text": [
        "1"
       ]
      }
     ],
     "prompt_number": 12
    },
    {
     "cell_type": "code",
     "collapsed": false,
     "input": [
      "# For Loops and Comprehensions\n",
      "Fs1 = cell(2)\n",
      "for j = 1:2\n",
      "    Fs[j] = ()->j\n",
      "end\n",
      "\n",
      "Fs[1]()\n",
      "Fs[2]()"
     ],
     "language": "python",
     "metadata": {},
     "outputs": [
      {
       "metadata": {},
       "output_type": "pyout",
       "prompt_number": 20,
       "text": [
        "2"
       ]
      }
     ],
     "prompt_number": 20
    },
    {
     "cell_type": "code",
     "collapsed": false,
     "input": [
      "i = 0\n",
      "for i = 1:3\n",
      "end\n",
      "i  # here equal to 3\n",
      "\n",
      "\n",
      "x = 0\n",
      "[ x for x=1:3 ]\n",
      "x  # here still equal to 0\n"
     ],
     "language": "python",
     "metadata": {},
     "outputs": [
      {
       "metadata": {},
       "output_type": "pyout",
       "prompt_number": 21,
       "text": [
        "0"
       ]
      }
     ],
     "prompt_number": 21
    },
    {
     "cell_type": "code",
     "collapsed": false,
     "input": [
      "# Constants\n",
      "const e  = 2.71828182845904523536\n",
      "const pi = 3.14159265358979323846"
     ],
     "language": "python",
     "metadata": {},
     "outputs": [
      {
       "ename": "LoadError",
       "evalue": "invalid redefinition of constant pi\nwhile loading In[23], in expression starting on line 4",
       "output_type": "pyerr",
       "traceback": [
        "invalid redefinition of constant pi\nwhile loading In[23], in expression starting on line 4",
        ""
       ]
      }
     ],
     "prompt_number": 23
    },
    {
     "cell_type": "code",
     "collapsed": false,
     "input": [],
     "language": "python",
     "metadata": {},
     "outputs": []
    }
   ],
   "metadata": {}
  }
 ]
}