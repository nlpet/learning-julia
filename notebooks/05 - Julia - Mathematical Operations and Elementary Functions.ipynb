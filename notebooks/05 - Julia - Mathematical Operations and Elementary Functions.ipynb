{
 "metadata": {
  "language": "Julia",
  "name": "",
  "signature": "sha256:29e3e9ec024bc0d4e188608f6d5b3285bb01cfe706727021cd7a4073c24a7838"
 },
 "nbformat": 3,
 "nbformat_minor": 0,
 "worksheets": [
  {
   "cells": [
    {
     "cell_type": "code",
     "collapsed": false,
     "input": [
      "16 >> 1"
     ],
     "language": "python",
     "metadata": {},
     "outputs": [
      {
       "metadata": {},
       "output_type": "pyout",
       "prompt_number": 3,
       "text": [
        "8"
       ]
      }
     ],
     "prompt_number": 3
    },
    {
     "cell_type": "code",
     "collapsed": false,
     "input": [
      "operations = [\n",
      " (\"unary plus\",\"+x\",\"the identity operation\") , \n",
      " (\"unary minus\",\"-x\",\"maps values to their additive inverses\") ,\n",
      " (\"binary plus\",\"x + y\",\"performs addition\") ,\n",
      " (\"binary minus\",\"x - y\",\"performs subtraction\") ,\n",
      " (\"times\",\"x * y\",\"performs multiplication\") ,\n",
      " (\"divide\",\"x / y\",\"performs division\") ,\n",
      " (\"inverse divide\",\"x \\ y\",\"equivalent to y / x\") ,\n",
      " (\"power\",\"x ^ y\",\"raises x to the yth power\") ,\n",
      " (\"remainder\",\"x % y\",\"equivalent to rem(x,y)\") ,\n",
      " (\"\",\"\",\"\")\n",
      "]\n",
      "\n",
      "\n",
      "for op = operations\n",
      "    println(op)\n",
      "end"
     ],
     "language": "python",
     "metadata": {},
     "outputs": [
      {
       "output_type": "stream",
       "stream": "stdout",
       "text": [
        "("
       ]
      },
      {
       "output_type": "stream",
       "stream": "stdout",
       "text": [
        "\"unary plus\",\"+x\",\"the identity operation\")\n",
        "(\"unary minus\",\"-x\",\"maps values to their additive inverses\")\n",
        "(\"binary plus\",\"x + y\",\"performs addition\")\n",
        "(\"binary minus\",\"x - y\",\"performs subtraction\")\n",
        "(\"times\",\"x * y\",\"performs multiplication\")\n",
        "(\"divide\",\"x / y\",\"performs division\")\n",
        "(\"inverse divide\",\"x  y\",\"equivalent to y / x\")\n",
        "(\"power\",\"x ^ y\",\"raises x to the yth power\")\n",
        "(\"remainder\",\"x % y\",\"equivalent to rem(x,y)\")\n",
        "(\"\",\"\",\"\")\n"
       ]
      }
     ],
     "prompt_number": 18
    },
    {
     "cell_type": "code",
     "collapsed": false,
     "input": [
      "x = true\n",
      "println(\"negation of x: $(!x)\")"
     ],
     "language": "python",
     "metadata": {},
     "outputs": [
      {
       "output_type": "stream",
       "stream": "stdout",
       "text": [
        "negation of x: false"
       ]
      },
      {
       "output_type": "stream",
       "stream": "stdout",
       "text": [
        "\n"
       ]
      }
     ],
     "prompt_number": 22
    },
    {
     "cell_type": "code",
     "collapsed": false,
     "input": [
      "~x #bitwise not"
     ],
     "language": "python",
     "metadata": {},
     "outputs": [
      {
       "metadata": {},
       "output_type": "pyout",
       "prompt_number": 23,
       "text": [
        "false"
       ]
      }
     ],
     "prompt_number": 23
    },
    {
     "cell_type": "code",
     "collapsed": false,
     "input": [
      "x = 0\n",
      "y = 1\n",
      "x & y #bitwise and"
     ],
     "language": "python",
     "metadata": {},
     "outputs": [
      {
       "metadata": {},
       "output_type": "pyout",
       "prompt_number": 24,
       "text": [
        "0"
       ]
      }
     ],
     "prompt_number": 24
    },
    {
     "cell_type": "code",
     "collapsed": false,
     "input": [
      "x | y #bitwise or"
     ],
     "language": "python",
     "metadata": {},
     "outputs": [
      {
       "metadata": {},
       "output_type": "pyout",
       "prompt_number": 25,
       "text": [
        "1"
       ]
      }
     ],
     "prompt_number": 25
    },
    {
     "cell_type": "code",
     "collapsed": false,
     "input": [
      "x $ y #bitwise xor"
     ],
     "language": "python",
     "metadata": {},
     "outputs": [
      {
       "metadata": {},
       "output_type": "pyout",
       "prompt_number": 26,
       "text": [
        "1"
       ]
      }
     ],
     "prompt_number": 26
    },
    {
     "cell_type": "code",
     "collapsed": false,
     "input": [
      "x >>> y #logical shift right"
     ],
     "language": "python",
     "metadata": {},
     "outputs": [
      {
       "metadata": {},
       "output_type": "pyout",
       "prompt_number": 27,
       "text": [
        "0"
       ]
      }
     ],
     "prompt_number": 27
    },
    {
     "cell_type": "code",
     "collapsed": false,
     "input": [
      "x >> y #arithmetic shift right"
     ],
     "language": "python",
     "metadata": {},
     "outputs": [
      {
       "metadata": {},
       "output_type": "pyout",
       "prompt_number": 28,
       "text": [
        "0"
       ]
      }
     ],
     "prompt_number": 28
    },
    {
     "cell_type": "code",
     "collapsed": false,
     "input": [
      "println(\"Logical shirt of x and y\")\n",
      "x = -11\n",
      "y = 1\n",
      "println(\"Moving\\n$(bits(x))\\nby $(y)\")\n",
      "println(bits(x >>> y))"
     ],
     "language": "python",
     "metadata": {},
     "outputs": [
      {
       "output_type": "stream",
       "stream": "stdout",
       "text": [
        "Logical shirt of x and y"
       ]
      },
      {
       "output_type": "stream",
       "stream": "stdout",
       "text": [
        "\n",
        "Moving\n",
        "1111111111111111111111111111111111111111111111111111111111110101\n",
        "by 1\n",
        "0111111111111111111111111111111111111111111111111111111111111010\n"
       ]
      }
     ],
     "prompt_number": 59
    },
    {
     "cell_type": "code",
     "collapsed": false,
     "input": [
      "println(\"Arithmetic shirt of x and y\")\n",
      "x = -11\n",
      "y = 1\n",
      "println(\"Moving\\n$(bits(x))\\nby $(y)\")\n",
      "println(bits(x >> y))"
     ],
     "language": "python",
     "metadata": {},
     "outputs": [
      {
       "output_type": "stream",
       "stream": "stdout",
       "text": [
        "Arithmetic shirt of x and y"
       ]
      },
      {
       "output_type": "stream",
       "stream": "stdout",
       "text": [
        "\n",
        "Moving\n",
        "1111111111111111111111111111111111111111111111111111111111110101\n",
        "by 1\n",
        "1111111111111111111111111111111111111111111111111111111111111010\n"
       ]
      }
     ],
     "prompt_number": 61
    },
    {
     "cell_type": "code",
     "collapsed": false,
     "input": [
      "println(\"Bitwise not on 123: $(~123)\")\n",
      "println(\"Bitwise not on\\n$(bits(123))\\nin bits:\\n$(bits(~123))\")"
     ],
     "language": "python",
     "metadata": {},
     "outputs": [
      {
       "output_type": "stream",
       "stream": "stdout",
       "text": [
        "Bitwise not on 123: -124"
       ]
      },
      {
       "output_type": "stream",
       "stream": "stdout",
       "text": [
        "\n",
        "Bitwise not on\n",
        "0000000000000000000000000000000000000000000000000000000001111011\n",
        "in bits:\n",
        "1111111111111111111111111111111111111111111111111111111110000100\n"
       ]
      }
     ],
     "prompt_number": 66
    },
    {
     "cell_type": "code",
     "collapsed": false,
     "input": [
      "123 & 234"
     ],
     "language": "python",
     "metadata": {},
     "outputs": [
      {
       "metadata": {},
       "output_type": "pyout",
       "prompt_number": 75,
       "text": [
        "106"
       ]
      }
     ],
     "prompt_number": 75
    },
    {
     "cell_type": "code",
     "collapsed": false,
     "input": [
      "123 | 234"
     ],
     "language": "python",
     "metadata": {},
     "outputs": [
      {
       "metadata": {},
       "output_type": "pyout",
       "prompt_number": 76,
       "text": [
        "251"
       ]
      }
     ],
     "prompt_number": 76
    },
    {
     "cell_type": "code",
     "collapsed": false,
     "input": [
      "123 $ 234"
     ],
     "language": "python",
     "metadata": {},
     "outputs": [
      {
       "metadata": {},
       "output_type": "pyout",
       "prompt_number": 77,
       "text": [
        "145"
       ]
      }
     ],
     "prompt_number": 77
    },
    {
     "cell_type": "code",
     "collapsed": false,
     "input": [
      "~uint32(123)"
     ],
     "language": "python",
     "metadata": {},
     "outputs": [
      {
       "metadata": {},
       "output_type": "pyout",
       "prompt_number": 79,
       "text": [
        "0xffffff84"
       ]
      }
     ],
     "prompt_number": 79
    },
    {
     "cell_type": "code",
     "collapsed": false,
     "input": [
      "~uint8(123)"
     ],
     "language": "python",
     "metadata": {},
     "outputs": [
      {
       "metadata": {},
       "output_type": "pyout",
       "prompt_number": 80,
       "text": [
        "0x84"
       ]
      }
     ],
     "prompt_number": 80
    },
    {
     "cell_type": "code",
     "collapsed": false,
     "input": [
      "# Updating operators\n",
      "# +=  -=  *=  /=  \\=  %=  ^=  &=  |=  $=  >>>=  >>=  <<=\n",
      "x = 2\n",
      "x += 3\n",
      "x *= 2\n",
      "x ^= 2"
     ],
     "language": "python",
     "metadata": {},
     "outputs": [
      {
       "metadata": {},
       "output_type": "pyout",
       "prompt_number": 83,
       "text": [
        "100"
       ]
      }
     ],
     "prompt_number": 83
    },
    {
     "cell_type": "code",
     "collapsed": false,
     "input": [
      "# Numeric comparisons\n",
      "# == != < <= > >=\n",
      "1 == 1\n",
      "1 != 1\n",
      "1 == 1.0\n",
      "1 < 2\n",
      "1 <= 2\n",
      "3 < -0.5"
     ],
     "language": "python",
     "metadata": {},
     "outputs": [
      {
       "metadata": {},
       "output_type": "pyout",
       "prompt_number": 84,
       "text": [
        "false"
       ]
      }
     ],
     "prompt_number": 84
    },
    {
     "cell_type": "code",
     "collapsed": false,
     "input": [
      "NaN == NaN, NaN === NaN"
     ],
     "language": "python",
     "metadata": {},
     "outputs": [
      {
       "metadata": {},
       "output_type": "pyout",
       "prompt_number": 92,
       "text": [
        "(false,true)"
       ]
      }
     ],
     "prompt_number": 92
    },
    {
     "cell_type": "code",
     "collapsed": false,
     "input": [
      "2 == 2.0 , 2 === 2.0"
     ],
     "language": "python",
     "metadata": {},
     "outputs": [
      {
       "metadata": {},
       "output_type": "pyout",
       "prompt_number": 93,
       "text": [
        "(true,false)"
       ]
      }
     ],
     "prompt_number": 93
    },
    {
     "cell_type": "code",
     "collapsed": false,
     "input": [
      "# Comparison functions\n",
      "# isequal(x,y) , isfinite(x), isinf(x), isnan(x)\n",
      "isequal(NaN,NaN)\n",
      "isequal([1 NaN], [1 NaN])\n",
      "- 0.0 == 0.0, isequal(-0.0, 0.0)"
     ],
     "language": "python",
     "metadata": {},
     "outputs": [
      {
       "metadata": {},
       "output_type": "pyout",
       "prompt_number": 103,
       "text": [
        "(true,false)"
       ]
      }
     ],
     "prompt_number": 103
    },
    {
     "cell_type": "code",
     "collapsed": false,
     "input": [
      "# Chaining comparisons\n",
      "1 > 0 <= 2 < 3 < 5 > 3"
     ],
     "language": "python",
     "metadata": {},
     "outputs": [
      {
       "metadata": {},
       "output_type": "pyout",
       "prompt_number": 110,
       "text": [
        "true"
       ]
      }
     ],
     "prompt_number": 110
    },
    {
     "cell_type": "code",
     "collapsed": false,
     "input": [
      "# http://docs.julialang.org/en/release-0.3/manual/mathematical-operations/"
     ],
     "language": "python",
     "metadata": {},
     "outputs": []
    },
    {
     "cell_type": "code",
     "collapsed": false,
     "input": [
      "v(x) = (println(x); x)\n",
      "v(1) < v(2) <= v(3)"
     ],
     "language": "python",
     "metadata": {},
     "outputs": [
      {
       "output_type": "stream",
       "stream": "stdout",
       "text": [
        "2"
       ]
      },
      {
       "output_type": "stream",
       "stream": "stdout",
       "text": [
        "\n",
        "1\n",
        "3\n"
       ]
      },
      {
       "metadata": {},
       "output_type": "pyout",
       "prompt_number": 5,
       "text": [
        "true"
       ]
      }
     ],
     "prompt_number": 5
    },
    {
     "cell_type": "code",
     "collapsed": false,
     "input": [
      "# Rounding functions\n",
      "x = 1.6\n",
      "println(\"round(x) - Round x to nearest integer (FloatingPoint): $(round(x))\")\n",
      "println(\"iround(x) - Round x to nearest integer (Integer): $(iround(x))\")\n",
      "println(\"floor(x) - round x towards -Inf (FloatingPoint): $(floor(x))\")\n",
      "println(\"ifloor(x) - round x towards -Inf (Integer): $(ifloor(x))\")\n",
      "println(\"ceil(x) - round x towards +Inf (FloatingPoint): $(ceil(x))\")\n",
      "println(\"iceil(x) - round x towards +Inf (Integer): $(iceil(x))\")\n",
      "println(\"trunc(x) - round x towards zero (FloatingPoint): $(trunc(x))\")\n",
      "println(\"itrunc(x) - round x towards zero (Integer): $(itrunc(x))\")"
     ],
     "language": "python",
     "metadata": {},
     "outputs": [
      {
       "output_type": "stream",
       "stream": "stdout",
       "text": [
        "round(x) - Round x to nearest integer (FloatingPoint): 2.0"
       ]
      },
      {
       "output_type": "stream",
       "stream": "stdout",
       "text": [
        "\n",
        "iround(x) - Round x to nearest integer (Integer): 2\n",
        "floor(x) - round x towards -Inf (FloatingPoint): 1.0\n",
        "ifloor(x) - round x towards -Inf (Integer): 1\n",
        "ceil(x) - round x towards +Inf (FloatingPoint): 2.0\n",
        "iceil(x) - round x towards +Inf (Integer): 2\n",
        "trunc(x) - round x towards zero (FloatingPoint): 1.0\n",
        "itrunc(x) - round x towards zero (Integer): 1\n"
       ]
      }
     ],
     "prompt_number": 18
    },
    {
     "cell_type": "code",
     "collapsed": false,
     "input": [
      "# Division functions\n",
      "x = 5; y = 2\n",
      "div(x,y) #truncated division; quotient rounded towards zero\n",
      "fld(x,y) #floored division; quotient rounded towards -Inf\n",
      "rem(x,y) #remainder; satisfies x == div(x,y)*y + rem(x,y); sign matches x\n",
      "divrem(x,y) #returns (div(x,y),rem(x,y))\n",
      "mod(x,y) #modulus; satisfies x == fld(x,y)*y + mod(x,y); sign matches y\n",
      "mod2pi(x) #modulus with respect to 2pi; 0 <= mod2pi(x)  < 2pi\n",
      "gcd(x,y) #greatest common divisor of x, y,...; sign matches x\n",
      "lcm(x,y) #least common multiple of x, y,...; sign matches x"
     ],
     "language": "python",
     "metadata": {},
     "outputs": [
      {
       "metadata": {},
       "output_type": "pyout",
       "prompt_number": 32,
       "text": [
        "10"
       ]
      }
     ],
     "prompt_number": 32
    },
    {
     "cell_type": "code",
     "collapsed": false,
     "input": [
      "# Sign and absolute value functions\n",
      "x = -5.7; y = 3\n",
      "abs(x) #a positive value with the magnitude of x\n",
      "abs2(x) #the squared magnitude of x\n",
      "sign(x) #indicates the sign of x, returning -1, 0, or +1\n",
      "signbit(x) #indicates whether the sign bit is on (true) or off (false)\n",
      "copysign(x,y) #a value with the magnitude of x and the sign of y\n",
      "flipsign(x,y) #a value with the magnitude of x and the sign of x*y"
     ],
     "language": "python",
     "metadata": {},
     "outputs": [
      {
       "metadata": {},
       "output_type": "pyout",
       "prompt_number": 53,
       "text": [
        "-5.7"
       ]
      }
     ],
     "prompt_number": 53
    },
    {
     "cell_type": "code",
     "collapsed": false,
     "input": [
      "# Powers, logs and roots\n",
      "x = 8; y = 3; n = 3324\n",
      "sqrt(x) #square root of x\n",
      "cbrt(x) #cube root of x\n",
      "hypot(x,y) #hypotenuse of right-angled triangle with other sides of length x and y\n",
      "exp(x) #natural xpontential function at x\n",
      "expm1(x) #accurate exp(x)-1 for x near zero\n",
      "x_p = 24356786745334546.254635425\n",
      "n_p = 43465454365646556\n",
      "#methods(ldexp)\n",
      "ldexp(x_p, n_p) #x*2^n computed efficiently for integer values of n\n",
      "log(x) #natural logarithm of x\n",
      "log(3,x) #base b logarithm of x\n",
      "log2(x) #base 2 logarithm of x\n",
      "log1p(x) #accurate log(1+x) for x near zero\n",
      "exponent(x_p) #binary exponent of x\n",
      "significand(123.45) #binary significand (a.k.a. mantissa) of a floating-point number x"
     ],
     "language": "python",
     "metadata": {},
     "outputs": [
      {
       "metadata": {},
       "output_type": "pyout",
       "prompt_number": 108,
       "text": [
        "1.92890625"
       ]
      }
     ],
     "prompt_number": 108
    },
    {
     "cell_type": "code",
     "collapsed": false,
     "input": [
      "# Trigonometric and hyperbolic functions (radians)\n",
      "#  sin    cos    tan    cot    sec    csc\n",
      "#  sinh   cosh   tanh   coth   sech   csch\n",
      "#  asin   acos   atan   acot   asec   acsc\n",
      "#  asinh  acosh  atanh  acoth  asech  acsch\n",
      "# sinc   cosc   atan2\n",
      "sin(32)\n",
      "\n",
      "# degrees\n",
      "# sind   cosd   tand   cotd   secd   cscd\n",
      "# asind  acosd  atand  acotd  asecd  acscd\n",
      "sind(32)"
     ],
     "language": "python",
     "metadata": {},
     "outputs": [
      {
       "metadata": {},
       "output_type": "pyout",
       "prompt_number": 114,
       "text": [
        "0.5299192642332049"
       ]
      }
     ],
     "prompt_number": 114
    },
    {
     "cell_type": "code",
     "collapsed": false,
     "input": [],
     "language": "python",
     "metadata": {},
     "outputs": []
    }
   ],
   "metadata": {}
  }
 ]
}