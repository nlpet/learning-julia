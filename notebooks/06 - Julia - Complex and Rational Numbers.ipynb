{
 "metadata": {
  "language": "Julia",
  "name": "",
  "signature": "sha256:bf8ebd7ba1839216df481128e61a9acd1396002a05021281d658bfd81328501d"
 },
 "nbformat": 3,
 "nbformat_minor": 0,
 "worksheets": [
  {
   "cells": [
    {
     "cell_type": "code",
     "collapsed": false,
     "input": [
      "# Complex Numbers\n",
      "1 + 2im"
     ],
     "language": "python",
     "metadata": {},
     "outputs": [
      {
       "metadata": {},
       "output_type": "pyout",
       "prompt_number": 2,
       "text": [
        "1 + 2im"
       ]
      }
     ],
     "prompt_number": 2
    },
    {
     "cell_type": "code",
     "collapsed": false,
     "input": [
      "(1 + 2im) * (2 - 3im)\n",
      "(1 + 2im) / (1 - 2im)\n",
      "(-3 + 2im) - (5 - 1im)\n",
      "(-1 + 2im)^2\n",
      "(-1 + 2im)^(1 + 1im)\n",
      "3(2 - 5im)^-1.0\n",
      "2(1 - 1im)\n",
      "(2 + 3im) - 1\n",
      "(1 + 2im) + 0.5\n",
      "(1 - 3im) / (2im + 1)\n",
      "2im^2\n",
      "2im^2im\n",
      "real(1 + 2im), (1+2im)\n",
      "imag(1 + 2im)\n",
      "conj(1 + 2im)\n",
      "abs(1 + 1im)\n",
      "angle(1+1im)\n",
      "cos(1 + 1im)"
     ],
     "language": "python",
     "metadata": {},
     "outputs": [
      {
       "metadata": {},
       "output_type": "pyout",
       "prompt_number": 26,
       "text": [
        "0.8337300251311491 - 0.9888977057628651im"
       ]
      }
     ],
     "prompt_number": 26
    },
    {
     "cell_type": "code",
     "collapsed": false,
     "input": [
      "sqrt(-1)\n",
      "sqrt(-1+0im)"
     ],
     "language": "python",
     "metadata": {},
     "outputs": [
      {
       "ename": "LoadError",
       "evalue": "DomainError\nwhile loading In[27], in expression starting on line 1",
       "output_type": "pyerr",
       "traceback": [
        "DomainError\nwhile loading In[27], in expression starting on line 1",
        "",
        " in sqrt at math.jl:133 (repeats 2 times)"
       ]
      }
     ],
     "prompt_number": 27
    },
    {
     "cell_type": "code",
     "collapsed": false,
     "input": [
      "a = 1; b = 2; a + b*im #not recommended\n",
      "complex(a,b) # recommended"
     ],
     "language": "python",
     "metadata": {},
     "outputs": [
      {
       "metadata": {},
       "output_type": "pyout",
       "prompt_number": 30,
       "text": [
        "1 + 2im"
       ]
      }
     ],
     "prompt_number": 30
    },
    {
     "cell_type": "code",
     "collapsed": false,
     "input": [
      "# Rational numbers\n",
      "2 // 3\n",
      "6 // 9\n",
      "-4 // 8\n",
      "3//4 > 7//8\n",
      "2//4 + 1//6\n",
      "5//12 - 1//4\n",
      "5//8 * 3//12\n",
      "6//5 / 10//7\n",
      "float(7//8)\n",
      "float(7/8)\n",
      "a = 2; b = 4\n",
      "isequal(float(a//b), a/b)\n",
      "5 // 0\n",
      "typeof(ans)\n",
      "3//5 + 1\n",
      "3//5 - 0.5"
     ],
     "language": "python",
     "metadata": {},
     "outputs": [
      {
       "metadata": {},
       "output_type": "pyout",
       "prompt_number": 45,
       "text": [
        "0.09999999999999998"
       ]
      }
     ],
     "prompt_number": 45
    },
    {
     "cell_type": "code",
     "collapsed": false,
     "input": [],
     "language": "python",
     "metadata": {},
     "outputs": []
    },
    {
     "cell_type": "code",
     "collapsed": false,
     "input": [],
     "language": "python",
     "metadata": {},
     "outputs": []
    }
   ],
   "metadata": {}
  }
 ]
}