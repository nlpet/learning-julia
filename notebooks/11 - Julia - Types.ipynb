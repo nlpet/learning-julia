{
 "metadata": {
  "language": "Julia",
  "name": "",
  "signature": "sha256:51e645a38c9a5b551bd792738334553ab0d7b7f8a0c80263f0d0de3d3f8e38c3"
 },
 "nbformat": 3,
 "nbformat_minor": 0,
 "worksheets": [
  {
   "cells": [
    {
     "cell_type": "code",
     "collapsed": false,
     "input": [],
     "language": "python",
     "metadata": {},
     "outputs": []
    },
    {
     "cell_type": "code",
     "collapsed": false,
     "input": [
      "function foo()\n",
      "    x::Int8 = 1000\n",
      "    x\n",
      "end\n",
      "\n",
      "foo()\n",
      "typeof(ans)"
     ],
     "language": "python",
     "metadata": {},
     "outputs": [
      {
       "metadata": {},
       "output_type": "pyout",
       "prompt_number": 5,
       "text": [
        "Int8"
       ]
      }
     ],
     "prompt_number": 5
    },
    {
     "cell_type": "code",
     "collapsed": false,
     "input": [
      "x = 1\n",
      "x::Int8        # a variable by itself\n",
      "local x::Int8  # in a local declaration\n",
      "x::Int8 = 10   # as the left-hand side of an assignment"
     ],
     "language": "python",
     "metadata": {},
     "outputs": [
      {
       "ename": "LoadError",
       "evalue": "type: typeassert: expected Int8, got Int64\nwhile loading In[7], in expression starting on line 2",
       "output_type": "pyerr",
       "traceback": [
        "type: typeassert: expected Int8, got Int64\nwhile loading In[7], in expression starting on line 2",
        ""
       ]
      }
     ],
     "prompt_number": 7
    },
    {
     "cell_type": "code",
     "collapsed": false,
     "input": [
      "# Abstract Types\n",
      "abstract \u00abname\u00bb\n",
      "abstract \u00abname\u00bb <: \u00absupertype\u00bb"
     ],
     "language": "python",
     "metadata": {},
     "outputs": [
      {
       "ename": "LoadError",
       "evalue": "syntax: invalid character \"\u00ab\"\nwhile loading In[8], in expression starting on line 2",
       "output_type": "pyerr",
       "traceback": [
        "syntax: invalid character \"\u00ab\"\nwhile loading In[8], in expression starting on line 2",
        ""
       ]
      }
     ],
     "prompt_number": 8
    },
    {
     "cell_type": "code",
     "collapsed": false,
     "input": [
      "abstract Number\n",
      "abstract Real     <: Number\n",
      "abstract FloatingPoint <: Real\n",
      "abstract Integer  <: Real\n",
      "abstract Signed   <: Integer\n",
      "abstract Unsigned <: Integer"
     ],
     "language": "python",
     "metadata": {},
     "outputs": [],
     "prompt_number": 9
    },
    {
     "cell_type": "code",
     "collapsed": false,
     "input": [
      "# Bits types\n",
      "\n",
      "bitstype 16 Float16 <: FloatingPoint\n",
      "bitstype 32 Float32 <: FloatingPoint\n",
      "bitstype 64 Float64 <: FloatingPoint\n",
      "\n",
      "bitstype 8  Bool <: Integer\n",
      "bitstype 32 Char <: Integer\n",
      "\n",
      "bitstype 8  Int8     <: Signed\n",
      "bitstype 8  Uint8    <: Unsigned\n",
      "bitstype 16 Int16    <: Signed\n",
      "bitstype 16 Uint16   <: Unsigned\n",
      "bitstype 32 Int32    <: Signed\n",
      "bitstype 32 Uint32   <: Unsigned\n",
      "bitstype 64 Int64    <: Signed\n",
      "bitstype 64 Uint64   <: Unsigned\n",
      "bitstype 128 Int128  <: Signed\n",
      "bitstype 128 Uint128 <: Unsigned"
     ],
     "language": "python",
     "metadata": {},
     "outputs": [
      {
       "output_type": "stream",
       "stream": "stderr",
       "text": [
        "Warning: imported binding for Bool overwritten in module Main\n"
       ]
      },
      {
       "output_type": "stream",
       "stream": "stderr",
       "text": [
        "Warning: imported binding for Int8 overwritten in module Main\n",
        "Warning: imported binding for Int16 overwritten in module Main\n"
       ]
      }
     ],
     "prompt_number": 10
    },
    {
     "cell_type": "code",
     "collapsed": false,
     "input": [
      "# Composite types\n",
      "type Foo\n",
      " bar\n",
      " baz::Int\n",
      " qux::Float64\n",
      "end\n"
     ],
     "language": "python",
     "metadata": {},
     "outputs": [],
     "prompt_number": 28
    },
    {
     "cell_type": "code",
     "collapsed": false,
     "input": [
      "a = Foo(\"Hello, world.\", 23, 1.5)"
     ],
     "language": "python",
     "metadata": {},
     "outputs": [
      {
       "ename": "LoadError",
       "evalue": "`convert` has no method matching convert(::Type{Float64}, ::Float64)\nwhile loading In[30], in expression starting on line 1",
       "output_type": "pyerr",
       "traceback": [
        "`convert` has no method matching convert(::Type{Float64}, ::Float64)\nwhile loading In[30], in expression starting on line 1",
        "",
        " in Foo at no file"
       ]
      }
     ],
     "prompt_number": 30
    }
   ],
   "metadata": {}
  }
 ]
}