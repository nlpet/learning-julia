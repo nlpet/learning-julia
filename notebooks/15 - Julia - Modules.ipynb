{
 "metadata": {
  "language": "Julia",
  "name": "",
  "signature": "sha256:31f5423f10145c9f900cdf4fa36492e2d21e064e5a30ea124e6e65ae5f8fcb48"
 },
 "nbformat": 3,
 "nbformat_minor": 0,
 "worksheets": [
  {
   "cells": [
    {
     "cell_type": "code",
     "collapsed": false,
     "input": [
      "# Modules are separate global workspaces. They are delimited\n",
      "# syntactically, inside module Name ... end. Modules allow \n",
      "# you to create top-level definitions without worrying about\n",
      "# conflicts when your code is used together with somebody\n",
      "# else's. Within a module, you can control which names from\n",
      "# other modules are visible (importing), and specify which\n",
      "# of your names are intended to be public (exporting)"
     ],
     "language": "python",
     "metadata": {},
     "outputs": []
    },
    {
     "cell_type": "code",
     "collapsed": false,
     "input": [],
     "language": "python",
     "metadata": {},
     "outputs": []
    },
    {
     "cell_type": "code",
     "collapsed": false,
     "input": [],
     "language": "python",
     "metadata": {},
     "outputs": []
    }
   ],
   "metadata": {}
  }
 ]
}
