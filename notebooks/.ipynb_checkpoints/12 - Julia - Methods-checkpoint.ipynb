{
 "metadata": {
  "name": "",
  "signature": "sha256:9e604ddd3476e87290862336c4034fc97cf0ef742d143265900e6dd837731918"
 },
 "nbformat": 3,
 "nbformat_minor": 0,
 "worksheets": []
}