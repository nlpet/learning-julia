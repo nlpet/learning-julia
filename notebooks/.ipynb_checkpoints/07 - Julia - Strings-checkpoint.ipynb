{
 "metadata": {
  "language": "Julia",
  "name": "",
  "signature": "sha256:01d590905352da4b259b8ce47853bd66122aae027ecd93dad9d915e03f7c7227"
 },
 "nbformat": 3,
 "nbformat_minor": 0,
 "worksheets": [
  {
   "cells": [
    {
     "cell_type": "code",
     "collapsed": false,
     "input": [
      "# Characters\n",
      "'x', typeof('x')\n",
      "int('x'), typeof(int('x'))\n",
      "char(120),typeof(char(120))\n",
      "char(145),is_valid_char(char(145))\n",
      "char(145353535),is_valid_char(char(145353535))\n",
      "'\\u78' # x\n",
      "'\\u644' # nose\n",
      "'\\u2200' # should be 'for all'\n",
      "int('\\xff')\n",
      "'A' < 'a'\n",
      "int('A'),int('a')\n",
      "'A' <= 'a' <= 'Z'\n",
      "'x' - 'a'\n",
      "'A' + 1"
     ],
     "language": "python",
     "metadata": {},
     "outputs": [
      {
       "metadata": {},
       "output_type": "pyout",
       "prompt_number": 1,
       "text": [
        "'B'"
       ]
      }
     ],
     "prompt_number": 1
    },
    {
     "cell_type": "code",
     "collapsed": false,
     "input": [
      "# Strings - basics\n",
      "str = \"Hello, world.\\n\"\n",
      "\"\"\"Contains \"quote\" characters\"\"\"\n",
      "str[1] # 1-based\n",
      "endof(str)\n",
      "str[end-1]\n",
      "str[end/2]\n",
      "str[iround(end//3)]\n",
      "#str[0] #error\n",
      "#str[end+1] #error\n",
      "str[1:5]"
     ],
     "language": "python",
     "metadata": {},
     "outputs": [
      {
       "metadata": {},
       "output_type": "pyout",
       "prompt_number": 2,
       "text": [
        "\"Hello\""
       ]
      }
     ],
     "prompt_number": 2
    },
    {
     "cell_type": "code",
     "collapsed": false,
     "input": [
      "# Unicode and UTF-8\n",
      "s = \"\\u2200 x \\u2203 y\""
     ],
     "language": "python",
     "metadata": {},
     "outputs": [
      {
       "metadata": {},
       "output_type": "pyout",
       "prompt_number": 3,
       "text": [
        "\"\\u2200 x \\u2203 y\""
       ]
      }
     ],
     "prompt_number": 3
    },
    {
     "cell_type": "code",
     "collapsed": false,
     "input": [],
     "language": "python",
     "metadata": {},
     "outputs": [
      {
       "ename": "LoadError",
       "evalue": "sys not found\nwhile loading In[3], in expression starting on line 1",
       "output_type": "pyerr",
       "traceback": [
        "sys not found\nwhile loading In[3], in expression starting on line 1",
        "",
        " in require at loading.jl:47"
       ]
      }
     ],
     "prompt_number": 3
    },
    {
     "cell_type": "code",
     "collapsed": false,
     "input": [
      "#Interpolation\n",
      "greet = \"Hello\"; whom = \"world\"\n",
      "string(greet, \", \", whom, \".\\n\")\n",
      "\"$greet, $whom.\\n\""
     ],
     "language": "python",
     "metadata": {},
     "outputs": [
      {
       "metadata": {},
       "output_type": "pyout",
       "prompt_number": 2,
       "text": [
        "\"Hello, world.\\n\""
       ]
      }
     ],
     "prompt_number": 2
    },
    {
     "cell_type": "code",
     "collapsed": false,
     "input": [
      "\"1 + 2 = $(1 + 2)\""
     ],
     "language": "python",
     "metadata": {},
     "outputs": [
      {
       "metadata": {},
       "output_type": "pyout",
       "prompt_number": 3,
       "text": [
        "\"1 + 2 = 3\""
       ]
      }
     ],
     "prompt_number": 3
    },
    {
     "cell_type": "code",
     "collapsed": false,
     "input": [
      "v = [1,2,3]\n",
      "\"v : $v\""
     ],
     "language": "python",
     "metadata": {},
     "outputs": [
      {
       "metadata": {},
       "output_type": "pyout",
       "prompt_number": 4,
       "text": [
        "\"v : [1,2,3]\""
       ]
      }
     ],
     "prompt_number": 4
    },
    {
     "cell_type": "code",
     "collapsed": false,
     "input": [
      "print(\"I have \\$100 in my account.\\n\")"
     ],
     "language": "python",
     "metadata": {},
     "outputs": [
      {
       "output_type": "stream",
       "stream": "stdout",
       "text": [
        "I have $100 in my account.\n"
       ]
      }
     ],
     "prompt_number": 5
    },
    {
     "cell_type": "code",
     "collapsed": false,
     "input": [
      "# Common operations\n",
      "\"abracadabra\" < \"xylophone\"\n",
      "\"1 + 2 = 3\" == \"1 + 2 = $(1 + 2)\"\n",
      "search(\"xylophone\", 'x')\n",
      "search(\"xylophone\", 'o')\n",
      "search(\"xylophone\",'o',5)\n",
      "contains(\"Hello, world.\", \"world\")\n",
      "contains(\"Xylophon\", \"o\")\n",
      "contains(\"xylophon\",'o') # error"
     ],
     "language": "python",
     "metadata": {},
     "outputs": [
      {
       "ename": "LoadError",
       "evalue": "`contains` has no method matching contains(::ASCIIString, ::Char)\nwhile loading In[14], in expression starting on line 9",
       "output_type": "pyerr",
       "traceback": [
        "`contains` has no method matching contains(::ASCIIString, ::Char)\nwhile loading In[14], in expression starting on line 9",
        ""
       ]
      }
     ],
     "prompt_number": 14
    },
    {
     "cell_type": "code",
     "collapsed": false,
     "input": [
      "repeat(\".:Z:.\", 10)"
     ],
     "language": "python",
     "metadata": {},
     "outputs": [
      {
       "metadata": {},
       "output_type": "pyout",
       "prompt_number": 15,
       "text": [
        "\".:Z:..:Z:..:Z:..:Z:..:Z:..:Z:..:Z:..:Z:..:Z:..:Z:.\""
       ]
      }
     ],
     "prompt_number": 15
    },
    {
     "cell_type": "code",
     "collapsed": false,
     "input": [
      "join([\"apples\", \"bananas\", \"pineapples\"], \", \", \" and \")\n",
      "join([1,2,3], \", \", \" and \")"
     ],
     "language": "python",
     "metadata": {},
     "outputs": [
      {
       "metadata": {},
       "output_type": "pyout",
       "prompt_number": 18,
       "text": [
        "\"1, 2 and 3\""
       ]
      }
     ],
     "prompt_number": 18
    },
    {
     "cell_type": "code",
     "collapsed": false,
     "input": [
      "# Useful functions\n",
      "str = \"laptop\"\n",
      "endof(str)\n",
      "length(str)\n",
      "i = start(str)\n",
      "c, j = next(str,i)\n",
      "ind2chr(str,i)\n",
      "chr2ind(str,j)"
     ],
     "language": "python",
     "metadata": {},
     "outputs": [
      {
       "metadata": {},
       "output_type": "pyout",
       "prompt_number": 24,
       "text": [
        "2"
       ]
      }
     ],
     "prompt_number": 24
    },
    {
     "cell_type": "code",
     "collapsed": false,
     "input": [
      "# Regular Expressions\n",
      "regex =  r\"^\\s*(?:#|$)\"\n",
      "typeof(regex)\n",
      "ismatch(r\"^\\s*(?:#|$)\", \"not a comment\")\n",
      "ismatch(r\"^\\s*(?:#|$)\", \"# a comment\")\n",
      "match(r\"^\\s*(?:#|$)\", \"not a comment\")\n",
      "match(r\"^\\s*(?:#|$)\", \"# a comment\")"
     ],
     "language": "python",
     "metadata": {},
     "outputs": [
      {
       "metadata": {},
       "output_type": "pyout",
       "prompt_number": 30,
       "text": [
        "RegexMatch(\"#\")"
       ]
      }
     ],
     "prompt_number": 30
    },
    {
     "cell_type": "code",
     "collapsed": false,
     "input": [
      "line = \"# a comment\"\n",
      "m = match(r\"^\\s*(?:#|$)\", line)\n",
      "if m == nothing\n",
      "  println(\"not a comment\")\n",
      "else\n",
      "  println(\"blank or comment\")\n",
      "end"
     ],
     "language": "python",
     "metadata": {},
     "outputs": [
      {
       "output_type": "stream",
       "stream": "stdout",
       "text": [
        "blank or comment"
       ]
      },
      {
       "output_type": "stream",
       "stream": "stdout",
       "text": [
        "\n"
       ]
      }
     ],
     "prompt_number": 32
    },
    {
     "cell_type": "code",
     "collapsed": false,
     "input": [
      "m = match(r\"^\\s*(?:#\\s*(.*?)\\s*$|$)\", \"# a comment \")\n",
      "m.match"
     ],
     "language": "python",
     "metadata": {},
     "outputs": [
      {
       "metadata": {},
       "output_type": "pyout",
       "prompt_number": 38,
       "text": [
        "\"# a comment \""
       ]
      }
     ],
     "prompt_number": 38
    },
    {
     "cell_type": "code",
     "collapsed": false,
     "input": [
      "m = match(r\"(a|b)(c)?(d)\", \"acd\")\n",
      "m.match"
     ],
     "language": "python",
     "metadata": {},
     "outputs": [
      {
       "metadata": {},
       "output_type": "pyout",
       "prompt_number": 42,
       "text": [
        "\"acd\""
       ]
      }
     ],
     "prompt_number": 42
    },
    {
     "cell_type": "code",
     "collapsed": false,
     "input": [
      "#  i   Do case-insensitive pattern matching.\n",
      "#  \n",
      "#      If locale matching rules are in effect, the case map is taken\n",
      "#      from the current locale for code points less than 255, and\n",
      "#      from Unicode rules for larger code points. However, matches\n",
      "#      that would cross the Unicode rules/non-Unicode rules boundary\n",
      "#      (ords 255/256) will not succeed.\n",
      "#  \n",
      "#  m   Treat string as multiple lines.  That is, change \"^\" and \"$\"\n",
      "#      from matching the start or end of the string to matching the\n",
      "#      start or end of any line anywhere within the string.\n",
      "#  \n",
      "#  s   Treat string as single line.  That is, change \".\" to match any\n",
      "#      character whatsoever, even a newline, which normally it would\n",
      "#      not match.\n",
      "#  \n",
      "#      Used together, as r\"\"ms, they let the \".\" match any character\n",
      "#      whatsoever, while still allowing \"^\" and \"$\" to match,\n",
      "#      respectively, just after and just before newlines within the\n",
      "#      string.\n",
      "#  \n",
      "#  x   Tells the regular expression parser to ignore most whitespace\n",
      "#      that is neither backslashed nor within a character class. You\n",
      "#      can use this to break up your regular expression into\n",
      "#      (slightly) more readable parts. The '#' character is also\n",
      "#      treated as a metacharacter introducing a comment, just as in\n",
      "#      ordinary code.\n",
      "\n",
      "\n",
      "match(r\"a+.*b+.*?d$\"ism, \"Goodbye,\\nOh, angry,\\nBad world\\n\")"
     ],
     "language": "python",
     "metadata": {},
     "outputs": [
      {
       "metadata": {},
       "output_type": "pyout",
       "prompt_number": 44,
       "text": [
        "RegexMatch(\"angry,\\nBad world\")"
       ]
      }
     ],
     "prompt_number": 44
    },
    {
     "cell_type": "code",
     "collapsed": false,
     "input": [
      "# Byte Array Literals\n",
      "b\"DATA\\xff\\u2200\"\n",
      "b\"\\xff\"\n",
      "b\"\\uff\""
     ],
     "language": "python",
     "metadata": {},
     "outputs": [
      {
       "metadata": {},
       "output_type": "pyout",
       "prompt_number": 54,
       "text": [
        "2-element Array{Uint8,1}:\n",
        " 0xc3\n",
        " 0xbf"
       ]
      }
     ],
     "prompt_number": 54
    },
    {
     "cell_type": "code",
     "collapsed": false,
     "input": [],
     "language": "python",
     "metadata": {},
     "outputs": []
    },
    {
     "cell_type": "code",
     "collapsed": false,
     "input": [],
     "language": "python",
     "metadata": {},
     "outputs": []
    },
    {
     "cell_type": "code",
     "collapsed": false,
     "input": [],
     "language": "python",
     "metadata": {},
     "outputs": []
    },
    {
     "cell_type": "code",
     "collapsed": false,
     "input": [],
     "language": "python",
     "metadata": {},
     "outputs": []
    },
    {
     "cell_type": "code",
     "collapsed": false,
     "input": [],
     "language": "python",
     "metadata": {},
     "outputs": []
    }
   ],
   "metadata": {}
  }
 ]
}