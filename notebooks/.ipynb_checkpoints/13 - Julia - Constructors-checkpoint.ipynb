{
 "metadata": {
  "language": "Julia",
  "name": "",
  "signature": "sha256:b56e8b0ee7d44586e2eebf07c125cb19d5f6dbfa1df7debd79c3e9ec85fcb189"
 },
 "nbformat": 3,
 "nbformat_minor": 0,
 "worksheets": [
  {
   "cells": [
    {
     "cell_type": "code",
     "collapsed": false,
     "input": [
      "type Vector\n",
      "    x\n",
      "    y\n",
      "end"
     ],
     "language": "python",
     "metadata": {},
     "outputs": [],
     "prompt_number": 1
    },
    {
     "cell_type": "code",
     "collapsed": false,
     "input": [
      "v = Vector(1, 2)"
     ],
     "language": "python",
     "metadata": {},
     "outputs": [
      {
       "metadata": {},
       "output_type": "pyout",
       "prompt_number": 2,
       "text": [
        "Vector(1,2)"
       ]
      }
     ],
     "prompt_number": 2
    },
    {
     "cell_type": "code",
     "collapsed": false,
     "input": [
      "v.x, v.y"
     ],
     "language": "python",
     "metadata": {},
     "outputs": [
      {
       "metadata": {},
       "output_type": "pyout",
       "prompt_number": 3,
       "text": [
        "(1,2)"
       ]
      }
     ],
     "prompt_number": 3
    },
    {
     "cell_type": "code",
     "collapsed": false,
     "input": [
      "type OrderedPair\n",
      "    x::Real\n",
      "    y::Real\n",
      "    \n",
      "    OrderedPair(x, y) = x > y ? error(\"unordered pair\") : new(x, y)\n",
      "end"
     ],
     "language": "python",
     "metadata": {},
     "outputs": [],
     "prompt_number": 4
    },
    {
     "cell_type": "code",
     "collapsed": false,
     "input": [
      "OrderedPair(1, 2) # OK"
     ],
     "language": "python",
     "metadata": {},
     "outputs": [
      {
       "metadata": {},
       "output_type": "pyout",
       "prompt_number": 5,
       "text": [
        "OrderedPair(1,2)"
       ]
      }
     ],
     "prompt_number": 5
    },
    {
     "cell_type": "code",
     "collapsed": false,
     "input": [
      "OrderedPair(2, 1) # Error"
     ],
     "language": "python",
     "metadata": {},
     "outputs": [
      {
       "ename": "LoadError",
       "evalue": "unordered pair\nwhile loading In[6], in expression starting on line 1",
       "output_type": "pyerr",
       "traceback": [
        "unordered pair\nwhile loading In[6], in expression starting on line 1",
        "",
        " in OrderedPair at ./In[4]:5"
       ]
      }
     ],
     "prompt_number": 6
    },
    {
     "cell_type": "code",
     "collapsed": false,
     "input": [
      "type SelfReferentialType\n",
      "    obj::SelfReferentialType\n",
      "    \n",
      "    SelfReferentialType() = (x = new(); x.obj = x)\n",
      "end"
     ],
     "language": "python",
     "metadata": {},
     "outputs": [],
     "prompt_number": 7
    },
    {
     "cell_type": "code",
     "collapsed": false,
     "input": [
      "x = SelfReferentialType();\n",
      "println(is(x, x));\n",
      "println(is(x, x.obj));\n",
      "println(is(x, x.obj.obj));"
     ],
     "language": "python",
     "metadata": {},
     "outputs": [
      {
       "output_type": "stream",
       "stream": "stdout",
       "text": [
        "true\n"
       ]
      },
      {
       "output_type": "stream",
       "stream": "stdout",
       "text": [
        "true\n",
        "true\n"
       ]
      }
     ],
     "prompt_number": 8
    },
    {
     "cell_type": "code",
     "collapsed": false,
     "input": [
      "# Parametric constructors\n",
      "type Point{T<:Real}\n",
      "    x::T\n",
      "    y::T\n",
      "end"
     ],
     "language": "python",
     "metadata": {},
     "outputs": [],
     "prompt_number": 9
    },
    {
     "cell_type": "code",
     "collapsed": false,
     "input": [
      "Point(1, 2)"
     ],
     "language": "python",
     "metadata": {},
     "outputs": [
      {
       "metadata": {},
       "output_type": "pyout",
       "prompt_number": 10,
       "text": [
        "Point{Int64}(1,2)"
       ]
      }
     ],
     "prompt_number": 10
    },
    {
     "cell_type": "code",
     "collapsed": false,
     "input": [
      "Point(1.0, 2.0)"
     ],
     "language": "python",
     "metadata": {},
     "outputs": [
      {
       "metadata": {},
       "output_type": "pyout",
       "prompt_number": 11,
       "text": [
        "Point{Float64}(1.0,2.0)"
       ]
      }
     ],
     "prompt_number": 11
    },
    {
     "cell_type": "code",
     "collapsed": false,
     "input": [
      "# Declare a rational type which takes integer type\n",
      "# and is itself a real type\n",
      "immutable Rational{T<:Integer} <: Real\n",
      "    num::T\n",
      "    den::T\n",
      "    \n",
      "    function Rational(num::T, den::T)\n",
      "        if num == 0 && den == 0\n",
      "            error(\"invalid rational: 0//0\")\n",
      "        end\n",
      "        # Get lowest terms\n",
      "        g = gcd(den, num)\n",
      "        num = div(num, g)\n",
      "        den = div(den, g)\n",
      "        new(num, den)\n",
      "    end\n",
      "end"
     ],
     "language": "python",
     "metadata": {},
     "outputs": [],
     "prompt_number": 12
    },
    {
     "cell_type": "code",
     "collapsed": false,
     "input": [
      "Rational{T<:Integer}(n::T, d::T) = Rational{T}(n, d)\n",
      "Rational(n::Integer, d::Integer) = Rational(promote(n, d))\n",
      "Rational(n::Integer) = Rational(n, one(n))"
     ],
     "language": "python",
     "metadata": {},
     "outputs": [
      {
       "metadata": {},
       "output_type": "pyout",
       "prompt_number": 13,
       "text": [
        "Rational{T<:Integer} (constructor with 3 methods)"
       ]
      }
     ],
     "prompt_number": 13
    },
    {
     "cell_type": "code",
     "collapsed": false,
     "input": [
      "# Division of complex numbers\n",
      "function // (x::Complex, y::Complex)\n",
      "    xy = x*y'\n",
      "    yy = real(y*y')\n",
      "    complex(real(xy)//yy, imag(xy)//yy)\n",
      "end"
     ],
     "language": "python",
     "metadata": {},
     "outputs": [
      {
       "output_type": "stream",
       "stream": "stderr",
       "text": [
        "Warning: Method definition //(Complex"
       ]
      },
      {
       "output_type": "stream",
       "stream": "stderr",
       "text": [
        "{T<:Real},Complex{T<:Real}) in module Base at rational.jl:23 overwritten in module Main at In[14]:3.\n"
       ]
      },
      {
       "metadata": {},
       "output_type": "pyout",
       "prompt_number": 14,
       "text": [
        "// (generic function with 8 methods)"
       ]
      }
     ],
     "prompt_number": 14
    },
    {
     "cell_type": "code",
     "collapsed": false,
     "input": [
      "(1 + 2im) // (1 - 2im)"
     ],
     "language": "python",
     "metadata": {},
     "outputs": [
      {
       "metadata": {},
       "output_type": "pyout",
       "prompt_number": 15,
       "text": [
        "-3//5 + 4//5*im"
       ]
      }
     ],
     "prompt_number": 15
    },
    {
     "cell_type": "code",
     "collapsed": false,
     "input": [
      "typeof(ans)"
     ],
     "language": "python",
     "metadata": {},
     "outputs": [
      {
       "metadata": {},
       "output_type": "pyout",
       "prompt_number": 16,
       "text": [
        "Complex{Rational{Int64}} (constructor with 1 method)"
       ]
      }
     ],
     "prompt_number": 16
    },
    {
     "cell_type": "code",
     "collapsed": false,
     "input": [
      "ans <: Complex{Rational}"
     ],
     "language": "python",
     "metadata": {},
     "outputs": [
      {
       "metadata": {},
       "output_type": "pyout",
       "prompt_number": 18,
       "text": [
        "false"
       ]
      }
     ],
     "prompt_number": 18
    }
   ],
   "metadata": {}
  }
 ]
}